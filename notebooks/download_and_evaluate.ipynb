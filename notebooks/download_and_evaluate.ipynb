{
 "nbformat": 4,
 "nbformat_minor": 0,
 "metadata": {
  "colab": {
   "name": "download_and_evalutate.ipynb",
   "private_outputs": true,
   "provenance": [],
   "collapsed_sections": []
  },
  "kernelspec": {
   "name": "python3",
   "display_name": "Python 3"
  },
  "language_info": {
   "name": "python"
  },
  "accelerator": "GPU"
 },
 "cells": [
  {
   "cell_type": "markdown",
   "source": [
    "### Install libraries"
   ],
   "metadata": {
    "id": "GoIf1c5fWGRN"
   }
  },
  {
   "cell_type": "code",
   "source": [
    "!pip install labml tokenizers fairscale"
   ],
   "metadata": {
    "id": "wolGdJpZ3p1s"
   },
   "execution_count": null,
   "outputs": []
  },
  {
   "cell_type": "markdown",
   "source": [
    "### Check the available GPU"
   ],
   "metadata": {
    "id": "aVO72VxrljtF"
   }
  },
  {
   "cell_type": "code",
   "source": [
    "# !nvidia-smi\n",
    "# !free -h"
   ],
   "metadata": {
    "id": "O0E-LdiNVK2X"
   },
   "execution_count": null,
   "outputs": []
  },
  {
   "cell_type": "markdown",
   "source": [
    "### Imports"
   ],
   "metadata": {
    "id": "A7XvB-GSmGM0"
   }
  },
  {
   "cell_type": "code",
   "source": [
    "import sys\n",
    "import os\n",
    "from labml.logger import inspect\n",
    "from labml import lab, monit"
   ],
   "metadata": {
    "id": "kQmWL1vH2tto"
   },
   "execution_count": null,
   "outputs": []
  },
  {
   "cell_type": "markdown",
   "source": [
    "### Get [labmlai/neox](https://github.com/labmlai/neox)\n",
    "\n",
    "*You only need this if you are running this on Google Colab.*"
   ],
   "metadata": {
    "id": "AyP4QC1ilwLm"
   }
  },
  {
   "cell_type": "code",
   "source": [
    "# Clone the repo\n",
    "\n",
    "!git clone https://github.com/labmlai/neox.git"
   ],
   "metadata": {
    "id": "ULeH9dLvUkN-"
   },
   "execution_count": null,
   "outputs": []
  },
  {
   "cell_type": "code",
   "source": [
    "# Pull commits if already cloned\n",
    "\n",
    "# !cd neox && git pull"
   ],
   "metadata": {
    "id": "ZXEJumuQiFSY"
   },
   "execution_count": null,
   "outputs": []
  },
  {
   "cell_type": "markdown",
   "source": [
    "Set path for the cloned repo"
   ],
   "metadata": {
    "id": "99x1NsyJnYhX"
   }
  },
  {
   "cell_type": "code",
   "source": [
    "src_path = os.path.join(os.getcwd(), 'neox', 'src')\n",
    "inspect(src_path = src_path)\n",
    "if src_path not in sys.path:\n",
    "  sys.path.append(src_path)"
   ],
   "metadata": {
    "id": "untvZhYq29Rr"
   },
   "execution_count": null,
   "outputs": []
  },
  {
   "cell_type": "markdown",
   "source": [
    "### Mount google drive\n",
    "\n",
    "*You only need to run this if you are on Google Colab*"
   ],
   "metadata": {
    "id": "micJiv2tnh_N"
   }
  },
  {
   "cell_type": "code",
   "source": [
    "from google.colab import drive\n",
    "\n",
    "drive.mount('/content/drive')"
   ],
   "metadata": {
    "id": "EzFuBiJuCMjo"
   },
   "execution_count": null,
   "outputs": []
  },
  {
   "cell_type": "markdown",
   "source": [
    "You can either add a sym link to a folder in your Googe Drive or copy the contents if you have already downloaded the model checkpoints."
   ],
   "metadata": {
    "id": "PuomwQJEnzJu"
   }
  },
  {
   "cell_type": "code",
   "source": [
    "# Add a symlink\n",
    "!ln -s /content/drive/MyDrive/ColabData /content/data\n",
    "\n",
    "# Copy from the drive\n",
    "# !cp -rv /content/drive/MyDrive/ColabData /content/data"
   ],
   "metadata": {
    "id": "H4EK7JRxCNp5"
   },
   "execution_count": null,
   "outputs": []
  },
  {
   "cell_type": "code",
   "source": [
    "# Unmount the drive\n",
    "\n",
    "# with monit.section('Flush'):\n",
    "#   drive.flush_and_unmount()"
   ],
   "metadata": {
    "id": "xLF0H2QFG0FR"
   },
   "execution_count": null,
   "outputs": []
  },
  {
   "cell_type": "markdown",
   "source": [
    "### Download checkpoints"
   ],
   "metadata": {
    "id": "tjdEUvjdoJrt"
   }
  },
  {
   "cell_type": "code",
   "source": [
    "lab.configure({'data_path': '/content/data'})\n",
    "lab.get_data_path()"
   ],
   "metadata": {
    "id": "ThUdz-hcHgiB"
   },
   "execution_count": null,
   "outputs": []
  },
  {
   "cell_type": "code",
   "source": [
    "import neox.checkpoint\n",
    "\n",
    "neox.checkpoint.download()"
   ],
   "metadata": {
    "id": "dCbGo4aY3Wyu"
   },
   "execution_count": null,
   "outputs": []
  },
  {
   "cell_type": "markdown",
   "source": [
    "### Load the model"
   ],
   "metadata": {
    "id": "Rg0TCx9voY0b"
   }
  },
  {
   "cell_type": "code",
   "source": [
    "import neox.model"
   ],
   "metadata": {
    "id": "5Xlhk3ndBN0z"
   },
   "execution_count": null,
   "outputs": []
  },
  {
   "cell_type": "markdown",
   "source": [
    "Try the model"
   ],
   "metadata": {
    "id": "QtBs_9pWBQC4",
    "pycharm": {
     "name": "#%% md\n"
    }
   }
  },
  {
   "cell_type": "code",
   "execution_count": null,
   "outputs": [],
   "source": [
    "neox.model._test_eval()"
   ],
   "metadata": {
    "collapsed": false,
    "pycharm": {
     "name": "#%%\n"
    }
   }
  }
 ]
}